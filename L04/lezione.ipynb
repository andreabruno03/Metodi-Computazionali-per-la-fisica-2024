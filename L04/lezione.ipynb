{
 "cells": [
  {
   "cell_type": "markdown",
   "metadata": {},
   "source": [
    "La rappresentazione dei numeri all'interno del computer porta implicitamente un determinato errore che va caratterizzato."
   ]
  },
  {
   "cell_type": "code",
   "execution_count": 3,
   "metadata": {},
   "outputs": [],
   "source": [
    "import sys\n",
    "import math \n",
    "import numpy as np"
   ]
  },
  {
   "cell_type": "markdown",
   "metadata": {},
   "source": [
    "Tipi di dati"
   ]
  },
  {
   "cell_type": "code",
   "execution_count": 4,
   "metadata": {},
   "outputs": [
    {
     "data": {
      "text/plain": [
       "complex"
      ]
     },
     "execution_count": 4,
     "metadata": {},
     "output_type": "execute_result"
    }
   ],
   "source": [
    "c = 10j\n",
    "type(c) # sto rappresentando un numero complesso"
   ]
  },
  {
   "cell_type": "code",
   "execution_count": 5,
   "metadata": {},
   "outputs": [
    {
     "name": "stdout",
     "output_type": "stream",
     "text": [
      "(8+3j)\n"
     ]
    }
   ],
   "source": [
    "c1 = 3 + 2j\n",
    "c2 = 5 + 1j\n",
    "c = c1+c2 \n",
    "print(c)\n"
   ]
  },
  {
   "cell_type": "markdown",
   "metadata": {},
   "source": [
    "Rappresentazione dei dati\n"
   ]
  },
  {
   "cell_type": "code",
   "execution_count": 6,
   "metadata": {},
   "outputs": [
    {
     "name": "stdout",
     "output_type": "stream",
     "text": [
      "10\n",
      "0b1010\n"
     ]
    }
   ],
   "source": [
    "n=10\n",
    "print(n)\n",
    "print(bin(n))"
   ]
  },
  {
   "cell_type": "code",
   "execution_count": 7,
   "metadata": {},
   "outputs": [
    {
     "data": {
      "text/plain": [
       "4"
      ]
     },
     "execution_count": 7,
     "metadata": {},
     "output_type": "execute_result"
    }
   ],
   "source": [
    "n.bit_length() # resistuisce il numero di bit necessari per rappresentare il numero"
   ]
  },
  {
   "cell_type": "markdown",
   "metadata": {},
   "source": [
    "Un byte sono 8 bit e può rappresentare al massimo 2^8 cifre, di solito i dati vengono rappresentati in notazione esadecimale, in maniera tale da usare meno bit, in python è codificata da 0x. "
   ]
  },
  {
   "cell_type": "code",
   "execution_count": 8,
   "metadata": {},
   "outputs": [
    {
     "data": {
      "text/plain": [
       "15"
      ]
     },
     "execution_count": 8,
     "metadata": {},
     "output_type": "execute_result"
    }
   ],
   "source": [
    "0x0F"
   ]
  },
  {
   "cell_type": "code",
   "execution_count": 9,
   "metadata": {},
   "outputs": [
    {
     "data": {
      "text/plain": [
       "255"
      ]
     },
     "execution_count": 9,
     "metadata": {},
     "output_type": "execute_result"
    }
   ],
   "source": [
    "0xFF #massimo valore con due cifre in esadecimale"
   ]
  },
  {
   "cell_type": "code",
   "execution_count": 10,
   "metadata": {},
   "outputs": [
    {
     "data": {
      "text/plain": [
       "True"
      ]
     },
     "execution_count": 10,
     "metadata": {},
     "output_type": "execute_result"
    }
   ],
   "source": [
    "0xFF == 255"
   ]
  },
  {
   "cell_type": "markdown",
   "metadata": {},
   "source": [
    "Si possono sommare due numeri in notazioni diverse, perché il computer li converte ad un'unica notazione e poi li somma. Ci sono due metodi alternativi per immagazzinare i byte:\n",
    "- Big endian: vengono ordinati a partire dal più significativo\n",
    "- Little endian: vengono ordinati a partire dal meno significativo\n",
    "Naturalmente per scambiarsi i dati c'è bisogno di accordarsi su quale meotodo si sta usando."
   ]
  },
  {
   "cell_type": "code",
   "execution_count": 11,
   "metadata": {},
   "outputs": [
    {
     "data": {
      "text/plain": [
       "b'\\x00\\x04'"
      ]
     },
     "execution_count": 11,
     "metadata": {},
     "output_type": "execute_result"
    }
   ],
   "source": [
    "(1024).to_bytes(2, byteorder='little')"
   ]
  },
  {
   "cell_type": "code",
   "execution_count": 12,
   "metadata": {},
   "outputs": [
    {
     "data": {
      "text/plain": [
       "b'\\x04\\x00'"
      ]
     },
     "execution_count": 12,
     "metadata": {},
     "output_type": "execute_result"
    }
   ],
   "source": [
    "(1024).to_bytes(2, byteorder='big')"
   ]
  },
  {
   "cell_type": "markdown",
   "metadata": {},
   "source": [
    "possiamo interrogare il sistema per capire quale dei due metodi viene usato di default"
   ]
  },
  {
   "cell_type": "code",
   "execution_count": 13,
   "metadata": {},
   "outputs": [
    {
     "data": {
      "text/plain": [
       "b'\\x00\\x04'"
      ]
     },
     "execution_count": 13,
     "metadata": {},
     "output_type": "execute_result"
    }
   ],
   "source": [
    "(1024).to_bytes(2, byteorder=sys.byteorder) # di default è quindi little"
   ]
  },
  {
   "cell_type": "code",
   "execution_count": 14,
   "metadata": {},
   "outputs": [
    {
     "name": "stdout",
     "output_type": "stream",
     "text": [
      "2 8 16\n"
     ]
    }
   ],
   "source": [
    "bb = 0b10\n",
    "oo = 0o10\n",
    "ee = 0x10\n",
    "print(bb, oo, ee)"
   ]
  },
  {
   "cell_type": "markdown",
   "metadata": {},
   "source": [
    "volendo posso dare più bytes di quelli necessari, i quali saranno riempiti con degli zeri"
   ]
  },
  {
   "cell_type": "code",
   "execution_count": 15,
   "metadata": {},
   "outputs": [
    {
     "data": {
      "text/plain": [
       "b'\\x00\\x04\\x00\\x00'"
      ]
     },
     "execution_count": 15,
     "metadata": {},
     "output_type": "execute_result"
    }
   ],
   "source": [
    "(1024).to_bytes(4, byteorder=sys.byteorder)"
   ]
  },
  {
   "cell_type": "markdown",
   "metadata": {},
   "source": [
    "La codifica quando è presente un segno è diversa, semplicemente perché si usa il complemento a due, l'intervallo di rappresentazione cambia. L'ordine è particolare: da 0 a 127 viene espresso in esadecimale normale, poi da 128 in poi diventa -128 e prosegue a salire."
   ]
  },
  {
   "cell_type": "code",
   "execution_count": 17,
   "metadata": {},
   "outputs": [
    {
     "name": "stdout",
     "output_type": "stream",
     "text": [
      "-1024\n",
      "64512\n"
     ]
    }
   ],
   "source": [
    "print(int.from_bytes(b'\\xfc\\x00', byteorder='big', signed=True))\n",
    "print(int.from_bytes(b'\\xfc\\x00', byteorder='big', signed=False))"
   ]
  },
  {
   "cell_type": "code",
   "execution_count": 20,
   "metadata": {},
   "outputs": [
    {
     "name": "stdout",
     "output_type": "stream",
     "text": [
      "  0   0 00000000:   0   0\n",
      "  1   1 00000001:   1   1\n",
      "  2   2 00000010:   2   2\n",
      "  3   3 00000011:   3   3\n",
      "  4   4 00000100:   4   4\n",
      "  5   5 00000101:   5   5\n",
      "  6   6 00000110:   6   6\n",
      "  7   7 00000111:   7   7\n",
      "  8   8 00001000:   8   8\n",
      "  9   9 00001001:   9   9\n",
      " 10   a 00001010:  10  10\n",
      " 11   b 00001011:  11  11\n",
      " 12   c 00001100:  12  12\n",
      " 13   d 00001101:  13  13\n",
      " 14   e 00001110:  14  14\n",
      " 15   f 00001111:  15  15\n",
      " 16  10 00010000:  16  16\n",
      " 17  11 00010001:  17  17\n",
      " 18  12 00010010:  18  18\n",
      " 19  13 00010011:  19  19\n",
      " 20  14 00010100:  20  20\n",
      " 21  15 00010101:  21  21\n",
      " 22  16 00010110:  22  22\n",
      " 23  17 00010111:  23  23\n",
      " 24  18 00011000:  24  24\n",
      " 25  19 00011001:  25  25\n",
      " 26  1a 00011010:  26  26\n",
      " 27  1b 00011011:  27  27\n",
      " 28  1c 00011100:  28  28\n",
      " 29  1d 00011101:  29  29\n",
      " 30  1e 00011110:  30  30\n",
      " 31  1f 00011111:  31  31\n",
      " 32  20 00100000:  32  32\n",
      " 33  21 00100001:  33  33\n",
      " 34  22 00100010:  34  34\n",
      " 35  23 00100011:  35  35\n",
      " 36  24 00100100:  36  36\n",
      " 37  25 00100101:  37  37\n",
      " 38  26 00100110:  38  38\n",
      " 39  27 00100111:  39  39\n",
      " 40  28 00101000:  40  40\n",
      " 41  29 00101001:  41  41\n",
      " 42  2a 00101010:  42  42\n",
      " 43  2b 00101011:  43  43\n",
      " 44  2c 00101100:  44  44\n",
      " 45  2d 00101101:  45  45\n",
      " 46  2e 00101110:  46  46\n",
      " 47  2f 00101111:  47  47\n",
      " 48  30 00110000:  48  48\n",
      " 49  31 00110001:  49  49\n",
      " 50  32 00110010:  50  50\n",
      " 51  33 00110011:  51  51\n",
      " 52  34 00110100:  52  52\n",
      " 53  35 00110101:  53  53\n",
      " 54  36 00110110:  54  54\n",
      " 55  37 00110111:  55  55\n",
      " 56  38 00111000:  56  56\n",
      " 57  39 00111001:  57  57\n",
      " 58  3a 00111010:  58  58\n",
      " 59  3b 00111011:  59  59\n",
      " 60  3c 00111100:  60  60\n",
      " 61  3d 00111101:  61  61\n",
      " 62  3e 00111110:  62  62\n",
      " 63  3f 00111111:  63  63\n",
      " 64  40 01000000:  64  64\n",
      " 65  41 01000001:  65  65\n",
      " 66  42 01000010:  66  66\n",
      " 67  43 01000011:  67  67\n",
      " 68  44 01000100:  68  68\n",
      " 69  45 01000101:  69  69\n",
      " 70  46 01000110:  70  70\n",
      " 71  47 01000111:  71  71\n",
      " 72  48 01001000:  72  72\n",
      " 73  49 01001001:  73  73\n",
      " 74  4a 01001010:  74  74\n",
      " 75  4b 01001011:  75  75\n",
      " 76  4c 01001100:  76  76\n",
      " 77  4d 01001101:  77  77\n",
      " 78  4e 01001110:  78  78\n",
      " 79  4f 01001111:  79  79\n",
      " 80  50 01010000:  80  80\n",
      " 81  51 01010001:  81  81\n",
      " 82  52 01010010:  82  82\n",
      " 83  53 01010011:  83  83\n",
      " 84  54 01010100:  84  84\n",
      " 85  55 01010101:  85  85\n",
      " 86  56 01010110:  86  86\n",
      " 87  57 01010111:  87  87\n",
      " 88  58 01011000:  88  88\n",
      " 89  59 01011001:  89  89\n",
      " 90  5a 01011010:  90  90\n",
      " 91  5b 01011011:  91  91\n",
      " 92  5c 01011100:  92  92\n",
      " 93  5d 01011101:  93  93\n",
      " 94  5e 01011110:  94  94\n",
      " 95  5f 01011111:  95  95\n",
      " 96  60 01100000:  96  96\n",
      " 97  61 01100001:  97  97\n",
      " 98  62 01100010:  98  98\n",
      " 99  63 01100011:  99  99\n",
      "100  64 01100100: 100 100\n",
      "101  65 01100101: 101 101\n",
      "102  66 01100110: 102 102\n",
      "103  67 01100111: 103 103\n",
      "104  68 01101000: 104 104\n",
      "105  69 01101001: 105 105\n",
      "106  6a 01101010: 106 106\n",
      "107  6b 01101011: 107 107\n",
      "108  6c 01101100: 108 108\n",
      "109  6d 01101101: 109 109\n",
      "110  6e 01101110: 110 110\n",
      "111  6f 01101111: 111 111\n",
      "112  70 01110000: 112 112\n",
      "113  71 01110001: 113 113\n",
      "114  72 01110010: 114 114\n",
      "115  73 01110011: 115 115\n",
      "116  74 01110100: 116 116\n",
      "117  75 01110101: 117 117\n",
      "118  76 01110110: 118 118\n",
      "119  77 01110111: 119 119\n",
      "120  78 01111000: 120 120\n",
      "121  79 01111001: 121 121\n",
      "122  7a 01111010: 122 122\n",
      "123  7b 01111011: 123 123\n",
      "124  7c 01111100: 124 124\n",
      "125  7d 01111101: 125 125\n",
      "126  7e 01111110: 126 126\n",
      "127  7f 01111111: 127 127\n",
      "128  80 10000000: 128 -128\n",
      "129  81 10000001: 129 -127\n",
      "130  82 10000010: 130 -126\n",
      "131  83 10000011: 131 -125\n",
      "132  84 10000100: 132 -124\n",
      "133  85 10000101: 133 -123\n",
      "134  86 10000110: 134 -122\n",
      "135  87 10000111: 135 -121\n",
      "136  88 10001000: 136 -120\n",
      "137  89 10001001: 137 -119\n",
      "138  8a 10001010: 138 -118\n",
      "139  8b 10001011: 139 -117\n",
      "140  8c 10001100: 140 -116\n",
      "141  8d 10001101: 141 -115\n",
      "142  8e 10001110: 142 -114\n",
      "143  8f 10001111: 143 -113\n",
      "144  90 10010000: 144 -112\n",
      "145  91 10010001: 145 -111\n",
      "146  92 10010010: 146 -110\n",
      "147  93 10010011: 147 -109\n",
      "148  94 10010100: 148 -108\n",
      "149  95 10010101: 149 -107\n",
      "150  96 10010110: 150 -106\n",
      "151  97 10010111: 151 -105\n",
      "152  98 10011000: 152 -104\n",
      "153  99 10011001: 153 -103\n",
      "154  9a 10011010: 154 -102\n",
      "155  9b 10011011: 155 -101\n",
      "156  9c 10011100: 156 -100\n",
      "157  9d 10011101: 157 -99\n",
      "158  9e 10011110: 158 -98\n",
      "159  9f 10011111: 159 -97\n",
      "160  a0 10100000: 160 -96\n",
      "161  a1 10100001: 161 -95\n",
      "162  a2 10100010: 162 -94\n",
      "163  a3 10100011: 163 -93\n",
      "164  a4 10100100: 164 -92\n",
      "165  a5 10100101: 165 -91\n",
      "166  a6 10100110: 166 -90\n",
      "167  a7 10100111: 167 -89\n",
      "168  a8 10101000: 168 -88\n",
      "169  a9 10101001: 169 -87\n",
      "170  aa 10101010: 170 -86\n",
      "171  ab 10101011: 171 -85\n",
      "172  ac 10101100: 172 -84\n",
      "173  ad 10101101: 173 -83\n",
      "174  ae 10101110: 174 -82\n",
      "175  af 10101111: 175 -81\n",
      "176  b0 10110000: 176 -80\n",
      "177  b1 10110001: 177 -79\n",
      "178  b2 10110010: 178 -78\n",
      "179  b3 10110011: 179 -77\n",
      "180  b4 10110100: 180 -76\n",
      "181  b5 10110101: 181 -75\n",
      "182  b6 10110110: 182 -74\n",
      "183  b7 10110111: 183 -73\n",
      "184  b8 10111000: 184 -72\n",
      "185  b9 10111001: 185 -71\n",
      "186  ba 10111010: 186 -70\n",
      "187  bb 10111011: 187 -69\n",
      "188  bc 10111100: 188 -68\n",
      "189  bd 10111101: 189 -67\n",
      "190  be 10111110: 190 -66\n",
      "191  bf 10111111: 191 -65\n",
      "192  c0 11000000: 192 -64\n",
      "193  c1 11000001: 193 -63\n",
      "194  c2 11000010: 194 -62\n",
      "195  c3 11000011: 195 -61\n",
      "196  c4 11000100: 196 -60\n",
      "197  c5 11000101: 197 -59\n",
      "198  c6 11000110: 198 -58\n",
      "199  c7 11000111: 199 -57\n",
      "200  c8 11001000: 200 -56\n",
      "201  c9 11001001: 201 -55\n",
      "202  ca 11001010: 202 -54\n",
      "203  cb 11001011: 203 -53\n",
      "204  cc 11001100: 204 -52\n",
      "205  cd 11001101: 205 -51\n",
      "206  ce 11001110: 206 -50\n",
      "207  cf 11001111: 207 -49\n",
      "208  d0 11010000: 208 -48\n",
      "209  d1 11010001: 209 -47\n",
      "210  d2 11010010: 210 -46\n",
      "211  d3 11010011: 211 -45\n",
      "212  d4 11010100: 212 -44\n",
      "213  d5 11010101: 213 -43\n",
      "214  d6 11010110: 214 -42\n",
      "215  d7 11010111: 215 -41\n",
      "216  d8 11011000: 216 -40\n",
      "217  d9 11011001: 217 -39\n",
      "218  da 11011010: 218 -38\n",
      "219  db 11011011: 219 -37\n",
      "220  dc 11011100: 220 -36\n",
      "221  dd 11011101: 221 -35\n",
      "222  de 11011110: 222 -34\n",
      "223  df 11011111: 223 -33\n",
      "224  e0 11100000: 224 -32\n",
      "225  e1 11100001: 225 -31\n",
      "226  e2 11100010: 226 -30\n",
      "227  e3 11100011: 227 -29\n",
      "228  e4 11100100: 228 -28\n",
      "229  e5 11100101: 229 -27\n",
      "230  e6 11100110: 230 -26\n",
      "231  e7 11100111: 231 -25\n",
      "232  e8 11101000: 232 -24\n",
      "233  e9 11101001: 233 -23\n",
      "234  ea 11101010: 234 -22\n",
      "235  eb 11101011: 235 -21\n",
      "236  ec 11101100: 236 -20\n",
      "237  ed 11101101: 237 -19\n",
      "238  ee 11101110: 238 -18\n",
      "239  ef 11101111: 239 -17\n",
      "240  f0 11110000: 240 -16\n",
      "241  f1 11110001: 241 -15\n",
      "242  f2 11110010: 242 -14\n",
      "243  f3 11110011: 243 -13\n",
      "244  f4 11110100: 244 -12\n",
      "245  f5 11110101: 245 -11\n",
      "246  f6 11110110: 246 -10\n",
      "247  f7 11110111: 247  -9\n",
      "248  f8 11111000: 248  -8\n",
      "249  f9 11111001: 249  -7\n",
      "250  fa 11111010: 250  -6\n",
      "251  fb 11111011: 251  -5\n",
      "252  fc 11111100: 252  -4\n",
      "253  fd 11111101: 253  -3\n",
      "254  fe 11111110: 254  -2\n",
      "255  ff 11111111: 255  -1\n"
     ]
    }
   ],
   "source": [
    "for ib in range(256):\n",
    "    print('{:>3d} {:>3x} {:08b}: {:>3d} {:>3d}'.format( ib, ib, ib,\n",
    "          int.from_bytes([ib], byteorder='big', signed=False), \n",
    "          int.from_bytes([ib], byteorder='big', signed=True )  )  )"
   ]
  },
  {
   "cell_type": "markdown",
   "metadata": {},
   "source": [
    "Considerando il complemento di un numero è possibile rappresentare valori negativi quando si vanno a scambiare i dati"
   ]
  },
  {
   "cell_type": "code",
   "execution_count": 21,
   "metadata": {},
   "outputs": [
    {
     "name": "stdout",
     "output_type": "stream",
     "text": [
      "2 -3\n"
     ]
    }
   ],
   "source": [
    "n = int.from_bytes([0b00000010], byteorder='big', signed=True)\n",
    "n_c = int.from_bytes([0b11111101], byteorder='big', signed=True)\n",
    "print(n, n_c)"
   ]
  },
  {
   "cell_type": "code",
   "execution_count": 22,
   "metadata": {},
   "outputs": [
    {
     "name": "stdout",
     "output_type": "stream",
     "text": [
      "-1\n"
     ]
    }
   ],
   "source": [
    "tot = n + n_c\n",
    "print(tot)"
   ]
  },
  {
   "cell_type": "markdown",
   "metadata": {},
   "source": [
    "Operazioni Bitwise: operazioni logiche svolte direttamente sui bit, si applicano solo a coppie di bit con stesso livello di significatività"
   ]
  },
  {
   "cell_type": "code",
   "execution_count": 23,
   "metadata": {},
   "outputs": [
    {
     "name": "stdout",
     "output_type": "stream",
     "text": [
      "a: 111101\n",
      "b: 000010\n"
     ]
    }
   ],
   "source": [
    "a = 0b111101\n",
    "b = 0b000010\n",
    "print( \"a: {:06b}\".format(a))\n",
    "print( \"b: {:06b}\".format(b))"
   ]
  },
  {
   "cell_type": "code",
   "execution_count": 25,
   "metadata": {},
   "outputs": [
    {
     "name": "stdout",
     "output_type": "stream",
     "text": [
      "Risultato and: 000000\n",
      "Risultato or: 111111\n"
     ]
    }
   ],
   "source": [
    "print(\"Risultato and: {:06b}\".format(a&b))\n",
    "print(\"Risultato or: {:06b}\".format(a|b))"
   ]
  },
  {
   "cell_type": "markdown",
   "metadata": {},
   "source": [
    "Bit shift: posso spostare i bit in avanti o indietro cambiandone la significatività"
   ]
  },
  {
   "cell_type": "code",
   "execution_count": 26,
   "metadata": {},
   "outputs": [
    {
     "name": "stdout",
     "output_type": "stream",
     "text": [
      "bb1 :      0b11001\n",
      "bs_plus2 :    0b1100100\n",
      "bs_minus2 :        0b110\n"
     ]
    }
   ],
   "source": [
    "bb1 = 0b0011001\n",
    "bs_plus2 = (bb1 << 2)\n",
    "bs_minus2 = (bb1 >> 2)\n",
    "print('bb1 : {:>12}'.format(bin(bb1)))\n",
    "print('bs_plus2 : {:>12}'.format(bin(bs_plus2)))\n",
    "print('bs_minus2 : {:>12}'.format(bin(bs_minus2))) # le ultime due cifre vengono buttate "
   ]
  },
  {
   "cell_type": "markdown",
   "metadata": {},
   "source": [
    "Errori di Rappresentazione:\n",
    "Il numero finito di byte utilizzato per i byte conduce a possibili differenze tra il valore teorico e quello immagazzinato nel computer"
   ]
  },
  {
   "cell_type": "code",
   "execution_count": 27,
   "metadata": {},
   "outputs": [
    {
     "data": {
      "text/plain": [
       "sys.float_info(max=1.7976931348623157e+308, max_exp=1024, max_10_exp=308, min=2.2250738585072014e-308, min_exp=-1021, min_10_exp=-307, dig=15, mant_dig=53, epsilon=2.220446049250313e-16, radix=2, rounds=1)"
      ]
     },
     "execution_count": 27,
     "metadata": {},
     "output_type": "execute_result"
    }
   ],
   "source": [
    "sys.float_info"
   ]
  },
  {
   "cell_type": "markdown",
   "metadata": {},
   "source": [
    "epsilon rappresenta la più piccola differenza rappresentabile tra due numeri, ovvero l'errore che faccio quando sommo due numeri. Nel nostro caso usiamo sempre tecniche numeriche, quindi approssiamo sempre i valori della funzione analitica, è quindi importante caratterizzare gli errori che si accumulano nel processo di calcolo."
   ]
  },
  {
   "cell_type": "code",
   "execution_count": 29,
   "metadata": {},
   "outputs": [
    {
     "name": "stdout",
     "output_type": "stream",
     "text": [
      "1.0000000000065512e-05\n"
     ]
    }
   ],
   "source": [
    "mypi = math.pi\n",
    "mypi = mypi + 1e-05\n",
    "print(mypi - math.pi)"
   ]
  },
  {
   "cell_type": "markdown",
   "metadata": {},
   "source": [
    "Anche in altri casi la rappresentazione del numero non è perfetta, ci sono casi in cui ci sarebbe bisogno un numero infinito di cifre, come ad esempio il pigreco, in particolare numeri che sono ben definiti in decimale non lo sono in binario."
   ]
  },
  {
   "cell_type": "code",
   "execution_count": 31,
   "metadata": {},
   "outputs": [
    {
     "data": {
      "text/plain": [
       "'0.0100000000'"
      ]
     },
     "execution_count": 31,
     "metadata": {},
     "output_type": "execute_result"
    }
   ],
   "source": [
    "format(0.01, '.10f')"
   ]
  },
  {
   "cell_type": "code",
   "execution_count": 33,
   "metadata": {},
   "outputs": [
    {
     "data": {
      "text/plain": [
       "'0.010000000000000000208166817117'"
      ]
     },
     "execution_count": 33,
     "metadata": {},
     "output_type": "execute_result"
    }
   ],
   "source": [
    "format(0.01, '.30f')"
   ]
  },
  {
   "cell_type": "code",
   "execution_count": 37,
   "metadata": {},
   "outputs": [
    {
     "name": "stdout",
     "output_type": "stream",
     "text": [
      "0.125\n"
     ]
    }
   ],
   "source": [
    "#0.125\n",
    "vd1 = 1/10 + 2/100 + 5/1000\n",
    "print(vd1)"
   ]
  },
  {
   "cell_type": "code",
   "execution_count": 38,
   "metadata": {},
   "outputs": [
    {
     "name": "stdout",
     "output_type": "stream",
     "text": [
      "0.125\n"
     ]
    }
   ],
   "source": [
    "#in binario\n",
    "vb1 = 0/2 + 0/4 + 1/8\n",
    "print(vb1)"
   ]
  },
  {
   "cell_type": "code",
   "execution_count": 39,
   "metadata": {},
   "outputs": [
    {
     "data": {
      "text/plain": [
       "'0.12500000000000000000000000000000000000000000000000'"
      ]
     },
     "execution_count": 39,
     "metadata": {},
     "output_type": "execute_result"
    }
   ],
   "source": [
    "format(vb1, '.50f')"
   ]
  },
  {
   "cell_type": "code",
   "execution_count": 40,
   "metadata": {},
   "outputs": [
    {
     "data": {
      "text/plain": [
       "0.3333333333333333"
      ]
     },
     "execution_count": 40,
     "metadata": {},
     "output_type": "execute_result"
    }
   ],
   "source": [
    "1/3"
   ]
  },
  {
   "cell_type": "code",
   "execution_count": 42,
   "metadata": {},
   "outputs": [
    {
     "data": {
      "text/plain": [
       "0.09375"
      ]
     },
     "execution_count": 42,
     "metadata": {},
     "output_type": "execute_result"
    }
   ],
   "source": [
    "1/16 + 1/32"
   ]
  },
  {
   "cell_type": "markdown",
   "metadata": {},
   "source": [
    "In pratica il problema si manifesta quando il numero non può essere rappresentato come potenze di 2"
   ]
  },
  {
   "cell_type": "code",
   "execution_count": 43,
   "metadata": {},
   "outputs": [
    {
     "data": {
      "text/plain": [
       "True"
      ]
     },
     "execution_count": 43,
     "metadata": {},
     "output_type": "execute_result"
    }
   ],
   "source": [
    "sum01 = 0.1 + 0.1 + 0.1\n",
    "sum01 == 0.1 + 0.1 + 0.1"
   ]
  },
  {
   "cell_type": "code",
   "execution_count": 44,
   "metadata": {},
   "outputs": [
    {
     "data": {
      "text/plain": [
       "False"
      ]
     },
     "execution_count": 44,
     "metadata": {},
     "output_type": "execute_result"
    }
   ],
   "source": [
    "sum01 == 0.3"
   ]
  },
  {
   "cell_type": "code",
   "execution_count": 46,
   "metadata": {},
   "outputs": [
    {
     "data": {
      "text/plain": [
       "'0.299999999999999988897769753748'"
      ]
     },
     "execution_count": 46,
     "metadata": {},
     "output_type": "execute_result"
    }
   ],
   "source": [
    "format(0.3, '.30f')"
   ]
  },
  {
   "cell_type": "markdown",
   "metadata": {},
   "source": [
    "E questo è legato alla differente rappresentazione di 0.3, non bisogna mai fare un confronto di uguaglianza tra reali"
   ]
  },
  {
   "cell_type": "code",
   "execution_count": 47,
   "metadata": {},
   "outputs": [
    {
     "data": {
      "text/plain": [
       "True"
      ]
     },
     "execution_count": 47,
     "metadata": {},
     "output_type": "execute_result"
    }
   ],
   "source": [
    "round(sum01, 10) == round(0.3, 10)"
   ]
  },
  {
   "cell_type": "code",
   "execution_count": 48,
   "metadata": {},
   "outputs": [
    {
     "data": {
      "text/plain": [
       "0.30000000000000004"
      ]
     },
     "execution_count": 48,
     "metadata": {},
     "output_type": "execute_result"
    }
   ],
   "source": [
    "round(sum01, 50)"
   ]
  },
  {
   "cell_type": "markdown",
   "metadata": {},
   "source": [
    "Molto spesso i numeri con la virgola vengono rappresentati come rapporto di interi"
   ]
  },
  {
   "cell_type": "code",
   "execution_count": 49,
   "metadata": {},
   "outputs": [
    {
     "data": {
      "text/plain": [
       "(1, 8)"
      ]
     },
     "execution_count": 49,
     "metadata": {},
     "output_type": "execute_result"
    }
   ],
   "source": [
    "(1/8).as_integer_ratio()"
   ]
  },
  {
   "cell_type": "code",
   "execution_count": 50,
   "metadata": {},
   "outputs": [
    {
     "data": {
      "text/plain": [
       "(3602879701896397, 36028797018963968)"
      ]
     },
     "execution_count": 50,
     "metadata": {},
     "output_type": "execute_result"
    }
   ],
   "source": [
    "(0.1).as_integer_ratio()"
   ]
  }
 ],
 "metadata": {
  "kernelspec": {
   "display_name": "base",
   "language": "python",
   "name": "python3"
  },
  "language_info": {
   "codemirror_mode": {
    "name": "ipython",
    "version": 3
   },
   "file_extension": ".py",
   "mimetype": "text/x-python",
   "name": "python",
   "nbconvert_exporter": "python",
   "pygments_lexer": "ipython3",
   "version": "3.12.4"
  }
 },
 "nbformat": 4,
 "nbformat_minor": 2
}
